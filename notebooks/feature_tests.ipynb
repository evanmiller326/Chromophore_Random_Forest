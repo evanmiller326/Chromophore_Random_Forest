{
 "cells": [
  {
   "cell_type": "code",
   "execution_count": 3,
   "metadata": {},
   "outputs": [
    {
     "ename": "AttributeError",
     "evalue": "module 'helper_functions' has no attribute 'ml_helpers'",
     "output_type": "error",
     "traceback": [
      "\u001b[0;31m---------------------------------------------------------------------------\u001b[0m",
      "\u001b[0;31mAttributeError\u001b[0m                            Traceback (most recent call last)",
      "\u001b[0;32m<ipython-input-3-7ef6a87d4018>\u001b[0m in \u001b[0;36m<module>\u001b[0;34m()\u001b[0m\n\u001b[1;32m      6\u001b[0m \u001b[0;32mfrom\u001b[0m \u001b[0msklearn\u001b[0m\u001b[0;34m.\u001b[0m\u001b[0mmetrics\u001b[0m \u001b[0;32mimport\u001b[0m \u001b[0mmean_squared_error\u001b[0m\u001b[0;34m\u001b[0m\u001b[0m\n\u001b[1;32m      7\u001b[0m \u001b[0;34m\u001b[0m\u001b[0m\n\u001b[0;32m----> 8\u001b[0;31m \u001b[0;32mimport\u001b[0m \u001b[0mhelper_functions\u001b[0m\u001b[0;34m.\u001b[0m\u001b[0mload_data_helper\u001b[0m \u001b[0;32mas\u001b[0m \u001b[0mmlh\u001b[0m\u001b[0;34m\u001b[0m\u001b[0m\n\u001b[0m\u001b[1;32m      9\u001b[0m \u001b[0;34m\u001b[0m\u001b[0m\n\u001b[1;32m     10\u001b[0m \u001b[0;32mfrom\u001b[0m \u001b[0mrandom_forest\u001b[0m \u001b[0;32mimport\u001b[0m \u001b[0mplot_actual_vs_predicted\u001b[0m \u001b[0;32mas\u001b[0m \u001b[0mpavp\u001b[0m\u001b[0;34m\u001b[0m\u001b[0m\n",
      "\u001b[0;32m~/Projects/matdat/helper_functions/__init__.py\u001b[0m in \u001b[0;36m<module>\u001b[0;34m()\u001b[0m\n\u001b[1;32m      1\u001b[0m \u001b[0m__all__\u001b[0m \u001b[0;34m=\u001b[0m \u001b[0;34m[\u001b[0m\u001b[0;34m\"notebook_nn\"\u001b[0m\u001b[0;34m,\u001b[0m \u001b[0;34m\"ml_helpers\"\u001b[0m\u001b[0;34m]\u001b[0m\u001b[0;34m\u001b[0m\u001b[0m\n\u001b[1;32m      2\u001b[0m \u001b[0;34m\u001b[0m\u001b[0m\n\u001b[0;32m----> 3\u001b[0;31m \u001b[0;32mfrom\u001b[0m \u001b[0;34m.\u001b[0m \u001b[0;32mimport\u001b[0m \u001b[0;34m*\u001b[0m\u001b[0;34m\u001b[0m\u001b[0m\n\u001b[0m",
      "\u001b[0;31mAttributeError\u001b[0m: module 'helper_functions' has no attribute 'ml_helpers'"
     ]
    }
   ],
   "source": [
    "import numpy as np\n",
    "import pandas as pd\n",
    "import matplotlib.pyplot as plt\n",
    "from scipy import stats\n",
    "\n",
    "from sklearn.metrics import mean_squared_error\n",
    "\n",
    "import helper_functions.load_data_helper as mlh\n",
    "\n",
    "from random_forest import plot_actual_vs_predicted as pavp\n",
    "\n",
    "import warnings\n",
    "warnings.filterwarnings(\"ignore\")\n",
    "import tensorflow as tf\n",
    "import ANN"
   ]
  },
  {
   "cell_type": "code",
   "execution_count": 2,
   "metadata": {},
   "outputs": [],
   "source": [
    "from sklearn import linear_model\n",
    "from sklearn.svm import SVR\n",
    "from sklearn.neighbors import KNeighborsRegressor\n",
    "from sklearn.ensemble import RandomForestRegressor\n",
    "from sklearn.ensemble import GradientBoostingRegressor\n",
    "\n",
    "def teach_the_terminator(train_features, \n",
    "                         train_labels,\n",
    "                        ml_method):\n",
    "    \n",
    "    if ml_method == \"Ordinary Least Squares\":\n",
    "        reg = linear_model.LinearRegression()\n",
    "    if ml_method == \"Ridge Regression\":\n",
    "        reg = linear_model.Ridge()\n",
    "    if ml_method == \"Bayesian Regression\":\n",
    "        reg = linear_model.BayesianRidge()\n",
    "    if ml_method == \"Support Vector Machine\":\n",
    "        reg = SVR(kernel='rbf', max_iter = 1000)\n",
    "    if ml_method == \"Stochastic Gradient Descent\":\n",
    "        reg = linear_model.SGDRegressor()\n",
    "    if ml_method == \"K-Nearest Neighbors\":\n",
    "        reg = KNeighborsRegressor()\n",
    "    if ml_method == \"Random Forest\":\n",
    "        reg = RandomForestRegressor()\n",
    "    if ml_method == \"Gradient Boosting\":\n",
    "        reg = GradientBoostingRegressor()\n",
    "    reg.fit(train_features, train_labels)\n",
    "    return reg"
   ]
  },
  {
   "cell_type": "code",
   "execution_count": 3,
   "metadata": {},
   "outputs": [],
   "source": [
    "def run_net(train, \n",
    "            test, \n",
    "        Nlayers = 3, \n",
    "        N_nodes= [10, 5, 1], \n",
    "        training_iterations = 1e3, \n",
    "        run_name = \"\", \n",
    "        show_comparison = False, \n",
    "        nfilters = 27,\n",
    "        convolution_outsize = 10,\n",
    "        forward_hops_only = False):\n",
    "\n",
    "    train_features = train.drop(['chromophoreA', 'chromophoreB', 'TI'], axis=1)\n",
    "    test_features = test.drop(['chromophoreA', 'chromophoreB', 'TI'], axis=1)\n",
    "    train_labels = train[['TI']]\n",
    "    test_labels = test[['TI']]\n",
    "    test_answers = test_labels\n",
    "    \n",
    "    train_features, test_features, train_labels, test_labels = train_features.values, test_features.values, train_labels.values, test_labels.values\n",
    "\n",
    "    assert Nlayers == len(N_nodes)\n",
    "\n",
    "    x = tf.placeholder(tf.float32, shape = [None, len(train_features[0])])\n",
    "    y_ = tf.placeholder(tf.float32, shape = [None, 1])\n",
    "\n",
    "    layer_dict = {}\n",
    "\n",
    "    xconv = ANN.convolve(x, nfilters, convolution_outsize)\n",
    "\n",
    "    for N in range(Nlayers):\n",
    "        if N == 0:\n",
    "            layer_dict[\"layer_{}\".format(N)] = tf.nn.elu(ANN.weights(x, convolution_outsize, N_nodes[N]))\n",
    "        elif N + 1 == Nlayers:\n",
    "            layer_dict[\"layer_{}\".format(N)] = tf.nn.elu(ANN.weights(layer_dict[\"layer_{}\".format(N-1)], N_nodes[N-1], N_nodes[N]))\n",
    "        else:\n",
    "            layer_dict[\"layer_{}\".format(N)] = tf.nn.elu(ANN.weights(layer_dict[\"layer_{}\".format(N-1)], N_nodes[N-1], N_nodes[N]))\n",
    "\n",
    "    y_out = layer_dict[\"layer_{}\".format(Nlayers-1)]\n",
    "\n",
    "    cost = tf.losses.huber_loss(labels = y_, predictions = y_out)\n",
    "\n",
    "    optimizer = tf.train.AdamOptimizer(0.01)\n",
    "    training_step = optimizer.minimize(cost)\n",
    "\n",
    "    session = tf.Session()\n",
    "    session.run(tf.global_variables_initializer())\n",
    "\n",
    "    training_error = []\n",
    "\n",
    "    for _ in range(int(training_iterations)):\n",
    "        batch_vectors, batch_answers = ANN.get_batch(train_features, train_labels)\n",
    "        session.run(training_step,feed_dict={x:batch_vectors,y_:batch_answers})\n",
    "        if _ % (int(training_iterations)//10) == 0:\n",
    "\n",
    "            train_error = session.run(cost,feed_dict={x:train_features,y_:train_labels})\n",
    "            training_error.append([_, train_error])\n",
    "            print(train_error)\n",
    "\n",
    "    pred_y = session.run(y_out, feed_dict={x: test_features})\n",
    "\n",
    "    mae = np.mean(abs(pred_y-test_labels))\n",
    "\n",
    "    slope, intercept, r_value, p_value, std_err = stats.linregress(\n",
    "        test_labels.flatten(), pred_y.flatten()\n",
    "    )\n",
    "\n",
    "    return pred_y"
   ]
  },
  {
   "cell_type": "code",
   "execution_count": 4,
   "metadata": {},
   "outputs": [],
   "source": [
    "def make_plots(actual, predicted, feature, names):\n",
    "    plt.close()\n",
    "    colors = feature\n",
    "    plt.scatter(\n",
    "        actual, predictions, s=12, alpha=0.5, zorder=0, c=colors, cmap=\"jet\"\n",
    "    )\n",
    "    plt.plot(\n",
    "        np.linspace(0, np.amax(actual), 10),\n",
    "        np.linspace(0, np.amax(actual), 10),\n",
    "        c=\"k\",\n",
    "        zorder=10,\n",
    "    )\n",
    "    plt.colorbar()\n",
    "    plt.ylabel(\"Predicted TI\")\n",
    "    plt.xlabel(\"Actual TI\")\n",
    "    plt.title(\"{}\".format(names))\n",
    "    plt.show()"
   ]
  },
  {
   "cell_type": "code",
   "execution_count": 24,
   "metadata": {},
   "outputs": [],
   "source": [
    "def analyze_predictions(pred, tests):\n",
    "    slope, intercept, r_value, p_value, std_err = stats.linregress(tests.values.flatten(), \n",
    "                                                                   pred.flatten())\n",
    "    mae = np.mean(abs(pred.flatten() - tests.values.flatten()))\n",
    "    return r_value, mae"
   ]
  },
  {
   "cell_type": "code",
   "execution_count": 44,
   "metadata": {},
   "outputs": [],
   "source": [
    "from matplotlib.colors import LogNorm\n",
    "from matplotlib import cm\n",
    "\n",
    "def plot_based_on_density(actual, predicted, system, r_value, mae):\n",
    "    print(\"Beginning the Plot.\")\n",
    "    actual = np.array(actual.values).flatten()\n",
    "    predicted = predicted.flatten()\n",
    "    \n",
    "    fig, ax = plt.subplots()\n",
    "    \n",
    "    plt.hist2d(actual, predicted, (50, 50), norm=LogNorm(), cmap='viridis')\n",
    "    plt.colorbar()\n",
    "    plt.plot(np.linspace(0, np.amax(actual), 10),\n",
    "            np.linspace(0, np.amax(actual), 10),\n",
    "            'w--',\n",
    "            alpha = 0.5)\n",
    "    plt.xlabel(\"Actual (eV)\")\n",
    "    plt.ylabel(\"Predicted (eV)\")\n",
    "    plt.title(\"{}\".format(system))\n",
    "    plt.text(0.8, 0.1, \n",
    "             s=r\"R$^{2}$:\"+\"{:.4f}\\nMAE:{:.4f}\".format(r_value**2, mae), \n",
    "             color = 'w', fontsize = 20)\n",
    "    rgba = cm.get_cmap('viridis')\n",
    "    rgba = rgba(0.0)\n",
    "    ax.set_facecolor(rgba)\n",
    "    ax.set_xlim([0, np.amax(actual)])\n",
    "    ax.set_ylim([0, np.amax(predicted)])\n",
    "    plt.show()\n",
    "    "
   ]
  },
  {
   "cell_type": "code",
   "execution_count": 15,
   "metadata": {},
   "outputs": [],
   "source": [
    "def apply_combined(method_name, train, test, plot_scatter=False):\n",
    "    \n",
    "    train = train.drop(['chromophoreA', 'chromophoreB'], axis=1)\n",
    "    test = test.drop(['chromophoreA', 'chromophoreB'], axis=1)\n",
    "    print(list(train.drop('TI', axis=1)))\n",
    "    \n",
    "    reg = teach_the_terminator(train.drop(['TI'], axis=1), \n",
    "                               train[['TI']], \n",
    "                               method_name)\n",
    "    predictions = np.array([reg.predict(test.drop(['TI'], axis=1)).T])\n",
    "    \n",
    "    if len(predictions.shape) == 3:\n",
    "        predictions = predictions[0]\n",
    "        \n",
    "    print(predictions.T.shape, test[['TI']].shape)\n",
    "    r_value, mae = analyze_predictions(predictions.T, test[['TI']])\n",
    "\n",
    "    plot_based_on_density(test[['TI']], predictions, method_name, r_value, mae)\n",
    "    if plot_scatter:\n",
    "        pavp(test[['TI']], predictions, r_value, mae, name=method_name)\n",
    "    \n",
    "    del reg\n",
    "    return predictions"
   ]
  },
  {
   "cell_type": "code",
   "execution_count": 8,
   "metadata": {},
   "outputs": [
    {
     "name": "stdout",
     "output_type": "stream",
     "text": [
      "Loading data from p3ht_pdi.db...\n",
      "Separating training and test data...\n"
     ]
    }
   ],
   "source": [
    "train_features, test_features, train_labels, test_labels = mlh.get_data(\n",
    "    database = 'p3ht_pdi.db',\n",
    "    training_tables=['ordered_frame_0', \n",
    "                     'semiordered_frame_0',\n",
    "                     'disordered_frame_0',\n",
    "                    ],\n",
    "    validation_tables=['semiordered_frame_1'],\n",
    "    absolute=['rotX', 'rotY', 'rotZ'],\n",
    "    skip=[],\n",
    "    yval='TI',\n",
    ")"
   ]
  },
  {
   "cell_type": "code",
   "execution_count": 9,
   "metadata": {},
   "outputs": [],
   "source": [
    "columns = list(train_features.drop('TI', axis=1))"
   ]
  },
  {
   "cell_type": "code",
   "execution_count": 65,
   "metadata": {},
   "outputs": [
    {
     "name": "stdout",
     "output_type": "stream",
     "text": [
      "['bonded', 'deltaE', 'distance', 'posX', 'posY', 'posZ', 'rotX', 'rotY', 'rotZ', 'sulfur_distance']\n",
      "(241222, 1) (241222, 1)\n",
      "Beginning the Plot.\n"
     ]
    },
    {
     "data": {
      "image/png": "[encoded data removed]",
      "text/plain": [
       "<Figure size 432x288 with 2 Axes>"
      ]
     },
     "metadata": {
      "needs_background": "light"
     },
     "output_type": "display_data"
    },
    {
     "name": "stdout",
     "output_type": "stream",
     "text": [
      "CPU times: user 1min 58s, sys: 1.02 s, total: 1min 59s\n",
      "Wall time: 1min 56s\n"
     ]
    }
   ],
   "source": [
    "%time predictions = apply_combined(\"Random Forest\", train_features, test_features)\n",
    "results[\"Random Forest\"] = predictions.T"
   ]
  },
  {
   "cell_type": "code",
   "execution_count": null,
   "metadata": {},
   "outputs": [],
   "source": []
  }
 ],
 "metadata": {
  "kernelspec": {
   "display_name": "Python 3",
   "language": "python",
   "name": "python3"
  },
  "language_info": {
   "codemirror_mode": {
    "name": "ipython",
    "version": 3
   },
   "file_extension": ".py",
   "mimetype": "text/x-python",
   "name": "python",
   "nbconvert_exporter": "python",
   "pygments_lexer": "ipython3",
   "version": "3.6.6"
  }
 },
 "nbformat": 4,
 "nbformat_minor": 2
}
